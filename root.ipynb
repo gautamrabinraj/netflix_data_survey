{
 "cells": [
  {
   "cell_type": "markdown",
   "metadata": {},
   "source": [
    "# NetFlix data sets"
   ]
  },
  {
   "cell_type": "markdown",
   "metadata": {},
   "source": [
    "A time series is a series of data points indexed (or listed or graphed) in time order. Most commonly, a time series is a sequence taken at successive equally spaced points in time."
   ]
  },
  {
   "cell_type": "code",
   "execution_count": 1,
   "metadata": {},
   "outputs": [],
   "source": [
    "import pandas as pd"
   ]
  },
  {
   "cell_type": "markdown",
   "metadata": {},
   "source": [
    "## Importing data sets from site https://finance.yahoo.com/quote/NFLX/history?period1=1569319583&period2=1600941983&interval=1d&filter=history&frequency=1d"
   ]
  },
  {
   "cell_type": "code",
   "execution_count": 2,
   "metadata": {},
   "outputs": [],
   "source": [
    "netflix=pd.read_csv('/home/rabinrajgautam/Downloads/ML AI/NFLX.csv')"
   ]
  },
  {
   "cell_type": "markdown",
   "metadata": {},
   "source": [
    "### Reading first 5 lines using head()"
   ]
  },
  {
   "cell_type": "code",
   "execution_count": 5,
   "metadata": {},
   "outputs": [
    {
     "data": {
      "text/html": [
       "<div>\n",
       "<style scoped>\n",
       "    .dataframe tbody tr th:only-of-type {\n",
       "        vertical-align: middle;\n",
       "    }\n",
       "\n",
       "    .dataframe tbody tr th {\n",
       "        vertical-align: top;\n",
       "    }\n",
       "\n",
       "    .dataframe thead th {\n",
       "        text-align: right;\n",
       "    }\n",
       "</style>\n",
       "<table border=\"1\" class=\"dataframe\">\n",
       "  <thead>\n",
       "    <tr style=\"text-align: right;\">\n",
       "      <th></th>\n",
       "      <th>Date</th>\n",
       "      <th>Open</th>\n",
       "      <th>High</th>\n",
       "      <th>Low</th>\n",
       "      <th>Close</th>\n",
       "      <th>Adj Close</th>\n",
       "      <th>Volume</th>\n",
       "    </tr>\n",
       "  </thead>\n",
       "  <tbody>\n",
       "    <tr>\n",
       "      <th>0</th>\n",
       "      <td>2019-09-24</td>\n",
       "      <td>262.500000</td>\n",
       "      <td>265.000000</td>\n",
       "      <td>252.279999</td>\n",
       "      <td>254.589996</td>\n",
       "      <td>254.589996</td>\n",
       "      <td>16338200</td>\n",
       "    </tr>\n",
       "    <tr>\n",
       "      <th>1</th>\n",
       "      <td>2019-09-25</td>\n",
       "      <td>255.710007</td>\n",
       "      <td>266.600006</td>\n",
       "      <td>253.699997</td>\n",
       "      <td>264.750000</td>\n",
       "      <td>264.750000</td>\n",
       "      <td>11643800</td>\n",
       "    </tr>\n",
       "    <tr>\n",
       "      <th>2</th>\n",
       "      <td>2019-09-26</td>\n",
       "      <td>266.420013</td>\n",
       "      <td>268.049988</td>\n",
       "      <td>260.200012</td>\n",
       "      <td>263.309998</td>\n",
       "      <td>263.309998</td>\n",
       "      <td>7684000</td>\n",
       "    </tr>\n",
       "    <tr>\n",
       "      <th>3</th>\n",
       "      <td>2019-09-27</td>\n",
       "      <td>266.179993</td>\n",
       "      <td>267.440002</td>\n",
       "      <td>260.390015</td>\n",
       "      <td>263.079987</td>\n",
       "      <td>263.079987</td>\n",
       "      <td>7328300</td>\n",
       "    </tr>\n",
       "    <tr>\n",
       "      <th>4</th>\n",
       "      <td>2019-09-30</td>\n",
       "      <td>264.000000</td>\n",
       "      <td>268.880005</td>\n",
       "      <td>262.779999</td>\n",
       "      <td>267.619995</td>\n",
       "      <td>267.619995</td>\n",
       "      <td>6727200</td>\n",
       "    </tr>\n",
       "  </tbody>\n",
       "</table>\n",
       "</div>"
      ],
      "text/plain": [
       "         Date        Open        High         Low       Close   Adj Close  \\\n",
       "0  2019-09-24  262.500000  265.000000  252.279999  254.589996  254.589996   \n",
       "1  2019-09-25  255.710007  266.600006  253.699997  264.750000  264.750000   \n",
       "2  2019-09-26  266.420013  268.049988  260.200012  263.309998  263.309998   \n",
       "3  2019-09-27  266.179993  267.440002  260.390015  263.079987  263.079987   \n",
       "4  2019-09-30  264.000000  268.880005  262.779999  267.619995  267.619995   \n",
       "\n",
       "     Volume  \n",
       "0  16338200  \n",
       "1  11643800  \n",
       "2   7684000  \n",
       "3   7328300  \n",
       "4   6727200  "
      ]
     },
     "execution_count": 5,
     "metadata": {},
     "output_type": "execute_result"
    }
   ],
   "source": [
    "netflix.head()"
   ]
  },
  {
   "cell_type": "markdown",
   "metadata": {},
   "source": [
    "### Reading last 5 lines using tail()"
   ]
  },
  {
   "cell_type": "code",
   "execution_count": 6,
   "metadata": {},
   "outputs": [
    {
     "data": {
      "text/html": [
       "<div>\n",
       "<style scoped>\n",
       "    .dataframe tbody tr th:only-of-type {\n",
       "        vertical-align: middle;\n",
       "    }\n",
       "\n",
       "    .dataframe tbody tr th {\n",
       "        vertical-align: top;\n",
       "    }\n",
       "\n",
       "    .dataframe thead th {\n",
       "        text-align: right;\n",
       "    }\n",
       "</style>\n",
       "<table border=\"1\" class=\"dataframe\">\n",
       "  <thead>\n",
       "    <tr style=\"text-align: right;\">\n",
       "      <th></th>\n",
       "      <th>Date</th>\n",
       "      <th>Open</th>\n",
       "      <th>High</th>\n",
       "      <th>Low</th>\n",
       "      <th>Close</th>\n",
       "      <th>Adj Close</th>\n",
       "      <th>Volume</th>\n",
       "    </tr>\n",
       "  </thead>\n",
       "  <tbody>\n",
       "    <tr>\n",
       "      <th>248</th>\n",
       "      <td>2020-09-17</td>\n",
       "      <td>475.160004</td>\n",
       "      <td>478.399994</td>\n",
       "      <td>463.269989</td>\n",
       "      <td>470.200012</td>\n",
       "      <td>470.200012</td>\n",
       "      <td>5379300</td>\n",
       "    </tr>\n",
       "    <tr>\n",
       "      <th>249</th>\n",
       "      <td>2020-09-18</td>\n",
       "      <td>472.510010</td>\n",
       "      <td>479.399994</td>\n",
       "      <td>458.600006</td>\n",
       "      <td>469.959991</td>\n",
       "      <td>469.959991</td>\n",
       "      <td>6717700</td>\n",
       "    </tr>\n",
       "    <tr>\n",
       "      <th>250</th>\n",
       "      <td>2020-09-21</td>\n",
       "      <td>467.690002</td>\n",
       "      <td>487.779999</td>\n",
       "      <td>466.320007</td>\n",
       "      <td>487.350006</td>\n",
       "      <td>487.350006</td>\n",
       "      <td>5457500</td>\n",
       "    </tr>\n",
       "    <tr>\n",
       "      <th>251</th>\n",
       "      <td>2020-09-22</td>\n",
       "      <td>489.010010</td>\n",
       "      <td>491.820007</td>\n",
       "      <td>479.260010</td>\n",
       "      <td>491.170013</td>\n",
       "      <td>491.170013</td>\n",
       "      <td>3482300</td>\n",
       "    </tr>\n",
       "    <tr>\n",
       "      <th>252</th>\n",
       "      <td>2020-09-23</td>\n",
       "      <td>491.040009</td>\n",
       "      <td>491.040009</td>\n",
       "      <td>469.000000</td>\n",
       "      <td>470.609985</td>\n",
       "      <td>470.609985</td>\n",
       "      <td>3719300</td>\n",
       "    </tr>\n",
       "  </tbody>\n",
       "</table>\n",
       "</div>"
      ],
      "text/plain": [
       "           Date        Open        High         Low       Close   Adj Close  \\\n",
       "248  2020-09-17  475.160004  478.399994  463.269989  470.200012  470.200012   \n",
       "249  2020-09-18  472.510010  479.399994  458.600006  469.959991  469.959991   \n",
       "250  2020-09-21  467.690002  487.779999  466.320007  487.350006  487.350006   \n",
       "251  2020-09-22  489.010010  491.820007  479.260010  491.170013  491.170013   \n",
       "252  2020-09-23  491.040009  491.040009  469.000000  470.609985  470.609985   \n",
       "\n",
       "      Volume  \n",
       "248  5379300  \n",
       "249  6717700  \n",
       "250  5457500  \n",
       "251  3482300  \n",
       "252  3719300  "
      ]
     },
     "execution_count": 6,
     "metadata": {},
     "output_type": "execute_result"
    }
   ],
   "source": [
    "netflix.tail()"
   ]
  },
  {
   "cell_type": "code",
   "execution_count": 7,
   "metadata": {},
   "outputs": [
    {
     "data": {
      "text/plain": [
       "Index(['Date', 'Open', 'High', 'Low', 'Close', 'Adj Close', 'Volume'], dtype='object')"
      ]
     },
     "execution_count": 7,
     "metadata": {},
     "output_type": "execute_result"
    }
   ],
   "source": [
    "netflix.columns"
   ]
  },
  {
   "cell_type": "code",
   "execution_count": 8,
   "metadata": {},
   "outputs": [
    {
     "data": {
      "text/plain": [
       "(253, 7)"
      ]
     },
     "execution_count": 8,
     "metadata": {},
     "output_type": "execute_result"
    }
   ],
   "source": [
    "netflix.shape"
   ]
  },
  {
   "cell_type": "code",
   "execution_count": 12,
   "metadata": {},
   "outputs": [
    {
     "data": {
      "text/plain": [
       "str"
      ]
     },
     "execution_count": 12,
     "metadata": {},
     "output_type": "execute_result"
    }
   ],
   "source": [
    "type(netflix.Date[0])"
   ]
  },
  {
   "cell_type": "markdown",
   "metadata": {},
   "source": [
    "### Since the 'Date' column is in string, we need to convert into date format using parse_dates"
   ]
  },
  {
   "cell_type": "code",
   "execution_count": 37,
   "metadata": {},
   "outputs": [],
   "source": [
    "netflix=pd.read_csv('/home/rabinrajgautam/Downloads/ML AI/NFLX.csv', parse_dates=['Date'])"
   ]
  },
  {
   "cell_type": "code",
   "execution_count": 38,
   "metadata": {},
   "outputs": [
    {
     "data": {
      "text/html": [
       "<div>\n",
       "<style scoped>\n",
       "    .dataframe tbody tr th:only-of-type {\n",
       "        vertical-align: middle;\n",
       "    }\n",
       "\n",
       "    .dataframe tbody tr th {\n",
       "        vertical-align: top;\n",
       "    }\n",
       "\n",
       "    .dataframe thead th {\n",
       "        text-align: right;\n",
       "    }\n",
       "</style>\n",
       "<table border=\"1\" class=\"dataframe\">\n",
       "  <thead>\n",
       "    <tr style=\"text-align: right;\">\n",
       "      <th></th>\n",
       "      <th>Date</th>\n",
       "      <th>Open</th>\n",
       "      <th>High</th>\n",
       "      <th>Low</th>\n",
       "      <th>Close</th>\n",
       "      <th>Adj Close</th>\n",
       "      <th>Volume</th>\n",
       "    </tr>\n",
       "  </thead>\n",
       "  <tbody>\n",
       "    <tr>\n",
       "      <th>0</th>\n",
       "      <td>2019-09-24</td>\n",
       "      <td>262.500000</td>\n",
       "      <td>265.000000</td>\n",
       "      <td>252.279999</td>\n",
       "      <td>254.589996</td>\n",
       "      <td>254.589996</td>\n",
       "      <td>16338200</td>\n",
       "    </tr>\n",
       "    <tr>\n",
       "      <th>1</th>\n",
       "      <td>2019-09-25</td>\n",
       "      <td>255.710007</td>\n",
       "      <td>266.600006</td>\n",
       "      <td>253.699997</td>\n",
       "      <td>264.750000</td>\n",
       "      <td>264.750000</td>\n",
       "      <td>11643800</td>\n",
       "    </tr>\n",
       "    <tr>\n",
       "      <th>2</th>\n",
       "      <td>2019-09-26</td>\n",
       "      <td>266.420013</td>\n",
       "      <td>268.049988</td>\n",
       "      <td>260.200012</td>\n",
       "      <td>263.309998</td>\n",
       "      <td>263.309998</td>\n",
       "      <td>7684000</td>\n",
       "    </tr>\n",
       "    <tr>\n",
       "      <th>3</th>\n",
       "      <td>2019-09-27</td>\n",
       "      <td>266.179993</td>\n",
       "      <td>267.440002</td>\n",
       "      <td>260.390015</td>\n",
       "      <td>263.079987</td>\n",
       "      <td>263.079987</td>\n",
       "      <td>7328300</td>\n",
       "    </tr>\n",
       "    <tr>\n",
       "      <th>4</th>\n",
       "      <td>2019-09-30</td>\n",
       "      <td>264.000000</td>\n",
       "      <td>268.880005</td>\n",
       "      <td>262.779999</td>\n",
       "      <td>267.619995</td>\n",
       "      <td>267.619995</td>\n",
       "      <td>6727200</td>\n",
       "    </tr>\n",
       "    <tr>\n",
       "      <th>...</th>\n",
       "      <td>...</td>\n",
       "      <td>...</td>\n",
       "      <td>...</td>\n",
       "      <td>...</td>\n",
       "      <td>...</td>\n",
       "      <td>...</td>\n",
       "      <td>...</td>\n",
       "    </tr>\n",
       "    <tr>\n",
       "      <th>248</th>\n",
       "      <td>2020-09-17</td>\n",
       "      <td>475.160004</td>\n",
       "      <td>478.399994</td>\n",
       "      <td>463.269989</td>\n",
       "      <td>470.200012</td>\n",
       "      <td>470.200012</td>\n",
       "      <td>5379300</td>\n",
       "    </tr>\n",
       "    <tr>\n",
       "      <th>249</th>\n",
       "      <td>2020-09-18</td>\n",
       "      <td>472.510010</td>\n",
       "      <td>479.399994</td>\n",
       "      <td>458.600006</td>\n",
       "      <td>469.959991</td>\n",
       "      <td>469.959991</td>\n",
       "      <td>6717700</td>\n",
       "    </tr>\n",
       "    <tr>\n",
       "      <th>250</th>\n",
       "      <td>2020-09-21</td>\n",
       "      <td>467.690002</td>\n",
       "      <td>487.779999</td>\n",
       "      <td>466.320007</td>\n",
       "      <td>487.350006</td>\n",
       "      <td>487.350006</td>\n",
       "      <td>5457500</td>\n",
       "    </tr>\n",
       "    <tr>\n",
       "      <th>251</th>\n",
       "      <td>2020-09-22</td>\n",
       "      <td>489.010010</td>\n",
       "      <td>491.820007</td>\n",
       "      <td>479.260010</td>\n",
       "      <td>491.170013</td>\n",
       "      <td>491.170013</td>\n",
       "      <td>3482300</td>\n",
       "    </tr>\n",
       "    <tr>\n",
       "      <th>252</th>\n",
       "      <td>2020-09-23</td>\n",
       "      <td>491.040009</td>\n",
       "      <td>491.040009</td>\n",
       "      <td>469.000000</td>\n",
       "      <td>470.609985</td>\n",
       "      <td>470.609985</td>\n",
       "      <td>3719300</td>\n",
       "    </tr>\n",
       "  </tbody>\n",
       "</table>\n",
       "<p>253 rows × 7 columns</p>\n",
       "</div>"
      ],
      "text/plain": [
       "          Date        Open        High         Low       Close   Adj Close  \\\n",
       "0   2019-09-24  262.500000  265.000000  252.279999  254.589996  254.589996   \n",
       "1   2019-09-25  255.710007  266.600006  253.699997  264.750000  264.750000   \n",
       "2   2019-09-26  266.420013  268.049988  260.200012  263.309998  263.309998   \n",
       "3   2019-09-27  266.179993  267.440002  260.390015  263.079987  263.079987   \n",
       "4   2019-09-30  264.000000  268.880005  262.779999  267.619995  267.619995   \n",
       "..         ...         ...         ...         ...         ...         ...   \n",
       "248 2020-09-17  475.160004  478.399994  463.269989  470.200012  470.200012   \n",
       "249 2020-09-18  472.510010  479.399994  458.600006  469.959991  469.959991   \n",
       "250 2020-09-21  467.690002  487.779999  466.320007  487.350006  487.350006   \n",
       "251 2020-09-22  489.010010  491.820007  479.260010  491.170013  491.170013   \n",
       "252 2020-09-23  491.040009  491.040009  469.000000  470.609985  470.609985   \n",
       "\n",
       "       Volume  \n",
       "0    16338200  \n",
       "1    11643800  \n",
       "2     7684000  \n",
       "3     7328300  \n",
       "4     6727200  \n",
       "..        ...  \n",
       "248   5379300  \n",
       "249   6717700  \n",
       "250   5457500  \n",
       "251   3482300  \n",
       "252   3719300  \n",
       "\n",
       "[253 rows x 7 columns]"
      ]
     },
     "execution_count": 38,
     "metadata": {},
     "output_type": "execute_result"
    }
   ],
   "source": [
    "netflix"
   ]
  },
  {
   "cell_type": "markdown",
   "metadata": {},
   "source": [
    "### Now changing the Date into index of our table using index_col='Date'"
   ]
  },
  {
   "cell_type": "code",
   "execution_count": 39,
   "metadata": {},
   "outputs": [],
   "source": [
    "netflix.set_index('Date', inplace=True)"
   ]
  },
  {
   "cell_type": "markdown",
   "metadata": {},
   "source": [
    "### Checking the index values using index "
   ]
  },
  {
   "cell_type": "code",
   "execution_count": 40,
   "metadata": {},
   "outputs": [
    {
     "data": {
      "text/plain": [
       "DatetimeIndex(['2019-09-24', '2019-09-25', '2019-09-26', '2019-09-27',\n",
       "               '2019-09-30', '2019-10-01', '2019-10-02', '2019-10-03',\n",
       "               '2019-10-04', '2019-10-07',\n",
       "               ...\n",
       "               '2020-09-10', '2020-09-11', '2020-09-14', '2020-09-15',\n",
       "               '2020-09-16', '2020-09-17', '2020-09-18', '2020-09-21',\n",
       "               '2020-09-22', '2020-09-23'],\n",
       "              dtype='datetime64[ns]', name='Date', length=253, freq=None)"
      ]
     },
     "execution_count": 40,
     "metadata": {},
     "output_type": "execute_result"
    }
   ],
   "source": [
    "netflix.index"
   ]
  },
  {
   "cell_type": "markdown",
   "metadata": {},
   "source": [
    "### Checking how many null values are present. "
   ]
  },
  {
   "cell_type": "code",
   "execution_count": 34,
   "metadata": {},
   "outputs": [
    {
     "data": {
      "text/plain": [
       "Open         0\n",
       "High         0\n",
       "Low          0\n",
       "Close        0\n",
       "Adj Close    0\n",
       "Volume       0\n",
       "dtype: int64"
      ]
     },
     "execution_count": 34,
     "metadata": {},
     "output_type": "execute_result"
    }
   ],
   "source": [
    "netflix.isnull().sum()"
   ]
  },
  {
   "cell_type": "markdown",
   "metadata": {},
   "source": [
    "### It is found that there are 0 null values !"
   ]
  },
  {
   "cell_type": "markdown",
   "metadata": {},
   "source": [
    "### Now just looking at the Jan data only using index 2020-01"
   ]
  },
  {
   "cell_type": "code",
   "execution_count": 47,
   "metadata": {},
   "outputs": [
    {
     "data": {
      "text/html": [
       "<div>\n",
       "<style scoped>\n",
       "    .dataframe tbody tr th:only-of-type {\n",
       "        vertical-align: middle;\n",
       "    }\n",
       "\n",
       "    .dataframe tbody tr th {\n",
       "        vertical-align: top;\n",
       "    }\n",
       "\n",
       "    .dataframe thead th {\n",
       "        text-align: right;\n",
       "    }\n",
       "</style>\n",
       "<table border=\"1\" class=\"dataframe\">\n",
       "  <thead>\n",
       "    <tr style=\"text-align: right;\">\n",
       "      <th></th>\n",
       "      <th>Open</th>\n",
       "      <th>High</th>\n",
       "      <th>Low</th>\n",
       "      <th>Close</th>\n",
       "      <th>Adj Close</th>\n",
       "      <th>Volume</th>\n",
       "    </tr>\n",
       "    <tr>\n",
       "      <th>Date</th>\n",
       "      <th></th>\n",
       "      <th></th>\n",
       "      <th></th>\n",
       "      <th></th>\n",
       "      <th></th>\n",
       "      <th></th>\n",
       "    </tr>\n",
       "  </thead>\n",
       "  <tbody>\n",
       "    <tr>\n",
       "      <th>2020-01-02</th>\n",
       "      <td>326.100006</td>\n",
       "      <td>329.980011</td>\n",
       "      <td>324.779999</td>\n",
       "      <td>329.809998</td>\n",
       "      <td>329.809998</td>\n",
       "      <td>4485800</td>\n",
       "    </tr>\n",
       "    <tr>\n",
       "      <th>2020-01-03</th>\n",
       "      <td>326.779999</td>\n",
       "      <td>329.859985</td>\n",
       "      <td>325.529999</td>\n",
       "      <td>325.899994</td>\n",
       "      <td>325.899994</td>\n",
       "      <td>3806900</td>\n",
       "    </tr>\n",
       "    <tr>\n",
       "      <th>2020-01-06</th>\n",
       "      <td>323.119995</td>\n",
       "      <td>336.359985</td>\n",
       "      <td>321.200012</td>\n",
       "      <td>335.829987</td>\n",
       "      <td>335.829987</td>\n",
       "      <td>5663100</td>\n",
       "    </tr>\n",
       "    <tr>\n",
       "      <th>2020-01-07</th>\n",
       "      <td>336.470001</td>\n",
       "      <td>336.700012</td>\n",
       "      <td>330.299988</td>\n",
       "      <td>330.750000</td>\n",
       "      <td>330.750000</td>\n",
       "      <td>4703200</td>\n",
       "    </tr>\n",
       "    <tr>\n",
       "      <th>2020-01-08</th>\n",
       "      <td>331.489990</td>\n",
       "      <td>342.700012</td>\n",
       "      <td>331.049988</td>\n",
       "      <td>339.260010</td>\n",
       "      <td>339.260010</td>\n",
       "      <td>7104500</td>\n",
       "    </tr>\n",
       "  </tbody>\n",
       "</table>\n",
       "</div>"
      ],
      "text/plain": [
       "                  Open        High         Low       Close   Adj Close  \\\n",
       "Date                                                                     \n",
       "2020-01-02  326.100006  329.980011  324.779999  329.809998  329.809998   \n",
       "2020-01-03  326.779999  329.859985  325.529999  325.899994  325.899994   \n",
       "2020-01-06  323.119995  336.359985  321.200012  335.829987  335.829987   \n",
       "2020-01-07  336.470001  336.700012  330.299988  330.750000  330.750000   \n",
       "2020-01-08  331.489990  342.700012  331.049988  339.260010  339.260010   \n",
       "\n",
       "             Volume  \n",
       "Date                 \n",
       "2020-01-02  4485800  \n",
       "2020-01-03  3806900  \n",
       "2020-01-06  5663100  \n",
       "2020-01-07  4703200  \n",
       "2020-01-08  7104500  "
      ]
     },
     "execution_count": 47,
     "metadata": {},
     "output_type": "execute_result"
    }
   ],
   "source": [
    "netflix['2020-01'].head()"
   ]
  },
  {
   "cell_type": "markdown",
   "metadata": {},
   "source": [
    "### The mean of the 'Close' column using mean()"
   ]
  },
  {
   "cell_type": "code",
   "execution_count": 50,
   "metadata": {},
   "outputs": [
    {
     "data": {
      "text/plain": [
       "338.83285666666666"
      ]
     },
     "execution_count": 50,
     "metadata": {},
     "output_type": "execute_result"
    }
   ],
   "source": [
    "netflix['2020-01'].Close.mean()"
   ]
  },
  {
   "cell_type": "markdown",
   "metadata": {},
   "source": [
    "### Calculating the mean of 'Close' column based on Month !"
   ]
  },
  {
   "cell_type": "code",
   "execution_count": 61,
   "metadata": {},
   "outputs": [
    {
     "data": {
      "text/plain": [
       "Date\n",
       "2019-09-30    262.669995\n",
       "2019-10-31    277.636520\n",
       "2019-11-30    299.125499\n",
       "2019-12-31    314.603809\n",
       "2020-01-31    338.832857\n",
       "2020-02-29    373.988422\n",
       "2020-03-31    350.587271\n",
       "2020-04-30    404.310951\n",
       "2020-05-31    433.294000\n",
       "2020-06-30    438.977728\n",
       "2020-07-31    499.385003\n",
       "2020-08-31    498.074762\n",
       "2020-09-30    497.906250\n",
       "Freq: M, Name: Close, dtype: float64"
      ]
     },
     "execution_count": 61,
     "metadata": {},
     "output_type": "execute_result"
    }
   ],
   "source": [
    "netflix.Close.resample('M').mean()"
   ]
  },
  {
   "cell_type": "markdown",
   "metadata": {},
   "source": [
    "### Plotting these mean values "
   ]
  },
  {
   "cell_type": "code",
   "execution_count": 62,
   "metadata": {},
   "outputs": [],
   "source": [
    "%matplotlib inline"
   ]
  },
  {
   "cell_type": "code",
   "execution_count": 68,
   "metadata": {},
   "outputs": [
    {
     "data": {
      "text/plain": [
       "<AxesSubplot:xlabel='Date'>"
      ]
     },
     "execution_count": 68,
     "metadata": {},
     "output_type": "execute_result"
    },
    {
     "data": {
      "image/png": "[encoded data removed]",
      "text/plain": [
       "<Figure size 432x288 with 1 Axes>"
      ]
     },
     "metadata": {
      "needs_background": "light"
     },
     "output_type": "display_data"
    }
   ],
   "source": [
    "netflix.Close.resample('M').mean().plot()"
   ]
  },
  {
   "cell_type": "markdown",
   "metadata": {},
   "source": [
    "### From this graph we conclude that, in months : From  Jul to Sep 2020 , the values are maximum."
   ]
  },
  {
   "cell_type": "markdown",
   "metadata": {},
   "source": [
    "### Visualizing the graph in bar below:\n"
   ]
  },
  {
   "cell_type": "code",
   "execution_count": 80,
   "metadata": {},
   "outputs": [
    {
     "data": {
      "text/plain": [
       "<AxesSubplot:xlabel='Date'>"
      ]
     },
     "execution_count": 80,
     "metadata": {},
     "output_type": "execute_result"
    },
    {
     "data": {
      "image/png": "[encoded data removed]",
      "text/plain": [
       "<Figure size 432x288 with 1 Axes>"
      ]
     },
     "metadata": {
      "needs_background": "light"
     },
     "output_type": "display_data"
    }
   ],
   "source": [
    "netflix.Close.resample('M').mean().plot(kind='bar')"
   ]
  },
  {
   "cell_type": "markdown",
   "metadata": {},
   "source": [
    "### We can resample base on quaterly, weekly also, insted of Month 'M' , we can write 'Q' for quaterly and 'W' for weekly, which is shown below :"
   ]
  },
  {
   "cell_type": "code",
   "execution_count": 77,
   "metadata": {},
   "outputs": [
    {
     "data": {
      "text/plain": [
       "<AxesSubplot:xlabel='Date'>"
      ]
     },
     "execution_count": 77,
     "metadata": {},
     "output_type": "execute_result"
    },
    {
     "data": {
      "image/png": "[encoded data removed]",
      "text/plain": [
       "<Figure size 432x288 with 1 Axes>"
      ]
     },
     "metadata": {
      "needs_background": "light"
     },
     "output_type": "display_data"
    }
   ],
   "source": [
    "netflix.Close.resample('Q').mean().plot(kind='bar')"
   ]
  },
  {
   "cell_type": "markdown",
   "metadata": {},
   "source": [
    "## Resampling generates a unique sampling distribution on the basis of the actual data. We can apply various frequency to resample our time series data. This is a very important technique in the field of analytics. To reduce the granularity we have introduce the term resample here."
   ]
  },
  {
   "cell_type": "code",
   "execution_count": null,
   "metadata": {},
   "outputs": [],
   "source": []
  }
 ],
 "metadata": {
  "kernelspec": {
   "display_name": "Python 3",
   "language": "python",
   "name": "python3"
  },
  "language_info": {
   "codemirror_mode": {
    "name": "ipython",
    "version": 3
   },
   "file_extension": ".py",
   "mimetype": "text/x-python",
   "name": "python",
   "nbconvert_exporter": "python",
   "pygments_lexer": "ipython3",
   "version": "3.8.3"
  }
 },
 "nbformat": 4,
 "nbformat_minor": 4
}
